{
 "cells": [
  {
   "cell_type": "markdown",
   "metadata": {},
   "source": [
    "Import modules"
   ]
  },
  {
   "cell_type": "code",
   "execution_count": null,
   "metadata": {},
   "outputs": [],
   "source": [
    "import numpy as np\n",
    "import os\n",
    "import scipy\n",
    "import matplotlib.pyplot as plt\n",
    "import datetime\n",
    "import pandas as pd\n",
    "from T import *\n",
    "from trans import *\n",
    "from readx import *\n",
    "from scipy.optimize import fmin, curve_fit"
   ]
  },
  {
   "cell_type": "markdown",
   "metadata": {},
   "source": [
    "Initial Data"
   ]
  },
  {
   "cell_type": "code",
   "execution_count": null,
   "metadata": {},
   "outputs": [],
   "source": [
    "ref = open(r\"C:\\Users\\Rohith K M\\OneDrive - Indian Institute of Technology Guwahati\\Lab Data THz\\Suchandra\\28-05-25 LCO\\air_5mm.picotd\")\n",
    "sam = open(r\"C:\\Users\\Rohith K M\\OneDrive - Indian Institute of Technology Guwahati\\Lab Data THz\\Suchandra\\28-05-25 LCO\\23.picotd\")\n",
    "\n",
    "case      = 'BBIO_60K.txt'\n",
    "subcase   = [case,'0']\n",
    "\n",
    "save_path = r\"C:\\Users\\Rohith K M\\OneDrive - Indian Institute of Technology Guwahati\\Lab Data THz\\Suchandra\\28-05-25 LCO\\Results\\Refractive index - home built\"\n",
    "\n",
    "t1 , t2 = 0 , 699      #For reference\n",
    "\n",
    "t3 , t4 = 0 , 699      #For sample\n",
    "\n",
    "f1 , f2 = 0.2 , 1.0         #Frequency range\n",
    "\n",
    "n1  = complex(1.0,0.0)        \n",
    "n2  = [3.7,0.25]               #initial n,k (Take from cell below)\n",
    "n3  = complex(1.0,0.0)     #substrate\n",
    "\n",
    "L = 880e-6                 #sample thickness"
   ]
  },
  {
   "cell_type": "markdown",
   "metadata": {},
   "source": [
    "Initial n,k"
   ]
  },
  {
   "cell_type": "code",
   "execution_count": null,
   "metadata": {},
   "outputs": [],
   "source": [
    "%matplotlib qt\n",
    "t,dphi,omega,data,dphi_1,time_shift,amp_ratio = trans(t1,t2,f1,f2,ref,sam,t3,t4)\n",
    "\n",
    "n_guess = np.zeros(len(omega))\n",
    "k_guess = np.zeros(len(omega))\n",
    "n_guess += ( scipy.constants.c/ L) * time_shift*1e-12 + 1.0\n",
    "k_guess += -scipy.constants.c * np.log(amp_ratio) / (L * omega)\n",
    "\n",
    "freq = omega/(2*np.pi)\n",
    "freq_THz = freq/1e12\n",
    "\n",
    "plt.figure(4)\n",
    "plt.subplot(1,2,1)\n",
    "plt.plot(freq_THz,n_guess,label='n_guess')\n",
    "plt.subplot(1,2,2)\n",
    "plt.plot(freq_THz,k_guess,label='k_guess')\n",
    "plt.show()"
   ]
  },
  {
   "cell_type": "markdown",
   "metadata": {},
   "source": [
    "Objective function"
   ]
  },
  {
   "cell_type": "code",
   "execution_count": null,
   "metadata": {},
   "outputs": [],
   "source": [
    "# def min_func(x, L, omega, t, t_theo, dphi, k, dM, dPhi, n1, n3):\n",
    "#     t_theo[k] = T(n1, x, n3, omega, L)\n",
    "#     M = np.log(np.abs(t_theo[k]) / np.abs(t[k]))\n",
    "    \n",
    "#     # Safeguard slicing\n",
    "#     slice_data = t_theo[-1:k-1:-1]\n",
    "#     if slice_data.size > 0:\n",
    "#         Phi = np.unwrap(np.angle(slice_data))[-1] - dphi[k]\n",
    "#     else:\n",
    "#         Phi = 0  # Handle empty slice\n",
    "\n",
    "#     dM[k] = M\n",
    "#     dPhi[k] = Phi\n",
    "#     xi = 1.0\n",
    "#     return np.linalg.norm(dM) + xi * np.linalg.norm(dPhi)\n",
    "\n",
    "def min_func(x, L, omega, t, t_theo, dphi, k, dM, dPhi, n1, n3):\n",
    "    \n",
    "    t_theo[k] = T(n1, x, n3, omega, L)\n",
    "    u = dphi[:k + 1]\n",
    "    u_approx = np.unwrap(np.angle(t_theo[:k + 1]))\n",
    "    error = np.abs(np.abs(t_theo[k]) - np.abs(t[k])) + np.abs(u[k] - u_approx[k])\n",
    "    return error"
   ]
  },
  {
   "cell_type": "markdown",
   "metadata": {},
   "source": [
    "Function calls and optimization"
   ]
  },
  {
   "cell_type": "code",
   "execution_count": null,
   "metadata": {},
   "outputs": [],
   "source": [
    "dphi=1.0*dphi\n",
    "n_r = np.zeros(len(omega),dtype=float)\n",
    "n_i = np.zeros(len(omega),dtype=float)\n",
    "t_theo = np.zeros(len(omega),dtype = complex)\n",
    "dM = np.zeros(len(omega),dtype=float)\n",
    "dPhi = np.zeros(len(omega),dtype=float)\n",
    "epsilon = np.zeros(len(omega),dtype=complex)\n",
    "sigma = np.zeros(len(omega),dtype = complex)\n",
    "\n",
    "k=0\n",
    "for j in omega:\n",
    "    print(j,k)\n",
    "    res = fmin (min_func,\n",
    "                           x0=n2,\n",
    "                           xtol = 1e-8,\n",
    "                           args=(L,j,t,t_theo,dphi,k,dM,dPhi,n1,n3),\n",
    "                           disp=True\n",
    "                           )\n",
    "\n",
    "    n2   = [res[0],res[1]]\n",
    "    \n",
    "    n_r[k] = res[0]\n",
    "    n_i[k] = res[1]\n",
    "    epsilon[k] = complex(n_r[k],n_i[k])**2\n",
    "    sigma[k]  = j*scipy.constants.epsilon_0*(np.imag(epsilon[k]) - complex(0,1)*(np.real(epsilon[k])-1.0))\n",
    "    k+=1\n",
    "\n",
    "freq = omega/(2*np.pi)\n",
    "freq_THz = freq/1e12"
   ]
  },
  {
   "cell_type": "markdown",
   "metadata": {},
   "source": [
    "Plots"
   ]
  },
  {
   "cell_type": "code",
   "execution_count": null,
   "metadata": {},
   "outputs": [],
   "source": [
    "%matplotlib qt\n",
    "ekk = datetime.datetime.now()\n",
    "n_initial = subcase\n",
    "d,m,y,hr,mi = ekk.day,ekk.month,ekk.year,ekk.hour,ekk.minute\n",
    "day_time = str(d)+'-'+str(m)+'-'+str(y)+' '+str(hr)+':'+str(mi)\n",
    "mat_info = 'n3='+str(n3)+' L2='+str(\"%0.3f\" % (L*1e6))+'um  '\n",
    "font_xaxis = 7.5\n",
    "font_yaxis = 7.5\n",
    "font_title = 8\n",
    "font_legend = 8\n",
    "\n",
    "plt.figure(0)\n",
    "plt.subplot(2,2,1)\n",
    "plt.plot(freq_THz,n_r,label='Real')\n",
    "plt.plot(freq_THz,n_i,label='Imag')\n",
    "plt.xlabel('Frequency ['+str(f1)+' THz-'+str(f2)+' THz]',fontsize = font_xaxis)\n",
    "plt.ylabel('Complex refractive index',fontsize = font_yaxis)\n",
    "plt.legend(fontsize = font_legend)\n",
    "plt.axhline(y=0,linestyle = '--',color='darkgray',linewidth = 1)\n",
    "#plt.savefig('nk.png',dpi=300)\n",
    "#plt.show()\n",
    "#plt.close()\n",
    "\n",
    "plt.subplot(2,2,2)\n",
    "plt.plot(freq_THz,np.abs(t),label='Exp')\n",
    "plt.plot(freq_THz,np.abs(t_theo),label='Theory')\n",
    "plt.xlabel('Frequency (THz)',fontsize = font_xaxis)\n",
    "plt.ylabel('Mag(t)',fontsize = font_yaxis)\n",
    "plt.ylim(0,1.5)\n",
    "plt.legend(fontsize = font_legend)\n",
    "plt.axhline(y=1.0,linestyle = '--',color='darkgray',linewidth = 1)\n",
    "#plt.savefig('t_mag.png',dpi=300)\n",
    "#plt.show()\n",
    "#plt.close()\n",
    "\n",
    "name1 = 'all_'+str(n_initial[0])+'_'+str(n_initial[1])+'_'+str(t1)+'_'+str(t2)+'.png'\n",
    "plt.subplot(2,2,3)\n",
    "plt.plot(freq_THz,np.angle(t),label='Exp')\n",
    "plt.plot(freq_THz,np.angle(t_theo),label='Theory')\n",
    "plt.plot(freq_THz,dphi)\n",
    "plt.xlabel('Frequency (THz)',fontsize = font_xaxis)\n",
    "plt.ylabel('Phase''[$\\phi_{sam}-\\phi_{ref}$]',fontsize = font_yaxis)\n",
    "plt.legend(fontsize = font_legend)\n",
    "\n",
    "plt.subplot(2,2,4)\n",
    "plt.plot(data.time_ref,data.v_ref,label='Ref')\n",
    "plt.plot(data.time_sam,data.v_sam,label='Sam')\n",
    "plt.xlabel('Time ['+str(np.min(data.time_ref))+'ps - '+str(np.max(data.time_ref))+'ps]' ,fontsize = font_xaxis)\n",
    "plt.ylabel('Voltage',fontsize = font_yaxis)\n",
    "plt.legend(fontsize = font_legend)\n",
    "plt.axhline(y=0,linestyle = '--',color='darkgray',linewidth = 1)\n",
    "\n",
    "plt.suptitle(mat_info+day_time,fontsize = font_title)\n",
    "plt.tight_layout()\n",
    "\n",
    "s_path = os.path.join(save_path, name1)\n",
    "plt.savefig(s_path,dpi=300)\n",
    "plt.show()\n",
    "\n",
    "name2 = 'nk_'+str(n_initial[0])+'_'+str(n_initial[1])+'_'+str(t1)+'_'+str(t2)+'.png'\n",
    "plt.figure(1)\n",
    "plt.plot(freq_THz,n_r,label='Real')\n",
    "plt.plot(freq_THz,n_i,label='Imag')\n",
    "plt.xlabel('Frequency ['+str(f1)+' THz-'+str(f2)+' THz]',fontsize = font_xaxis)\n",
    "plt.ylabel('Complex refractive index',fontsize = font_yaxis)\n",
    "plt.legend(fontsize = font_legend)\n",
    "plt.axhline(y=0,linestyle = '--',color='darkgray',linewidth = 1)\n",
    "\n",
    "s_path = os.path.join(save_path, name2)\n",
    "plt.savefig(s_path,dpi=300)\n",
    "plt.show()\n",
    "\n",
    "name3 = 'eps_'+str(n_initial[0])+'_'+str(n_initial[1])+'_'+str(t1)+'_'+str(t2)+'.png'\n",
    "plt.figure(2)\n",
    "plt.plot(freq_THz,np.real(epsilon),label='Real')\n",
    "plt.plot(freq_THz,np.imag(epsilon),label='Imag')\n",
    "plt.legend()\n",
    "plt.axhline(y=0,linestyle = '--',color='darkgray',linewidth = 1)\n",
    "plt.ylabel('Complex permitivitty')\n",
    "plt.xlabel('THz')\n",
    "\n",
    "s_path = os.path.join(save_path, name3)\n",
    "plt.savefig(s_path,dpi=300)\n",
    "plt.show()\n",
    "\n",
    "plt.figure(3)\n",
    "plt.plot(freq_THz,np.real(sigma),label='Real')\n",
    "plt.plot(freq_THz,np.imag(sigma),label='Imag')\n",
    "plt.legend()\n",
    "plt.axhline(y=0,linestyle = '--',color='darkgray',linewidth = 1)\n",
    "plt.ylabel('Complex conductivity')\n",
    "plt.xlabel('THz')\n",
    "s_path = os.path.join(save_path, 'sigma_'+case+'.png')\n",
    "plt.savefig(s_path,dpi=300)\n",
    "plt.show()"
   ]
  },
  {
   "cell_type": "markdown",
   "metadata": {},
   "source": [
    "WRITE DATA"
   ]
  },
  {
   "cell_type": "code",
   "execution_count": null,
   "metadata": {},
   "outputs": [],
   "source": [
    "t_data = np.array([freq_THz,np.real(t),np.imag(t)]).T\n",
    "nk_data = np.array([freq_THz,n_r,n_i]).T\n",
    "eps_data = np.array([freq_THz,np.real(epsilon),np.imag(epsilon)]).T\n",
    "sigma_data = np.array([freq_THz,np.real(sigma),np.imag(sigma)]).T\n",
    "v_ref_data = np.array([data.time_ref,data.v_ref]).T\n",
    "v_sam_data = np.array([data.time_sam,data.v_sam]).T\n",
    "\n",
    "s_path = os.path.join(save_path, 't_'+case)\n",
    "np.savetxt(s_path, t_data,delimiter='\\t', newline='\\n')\n",
    "\n",
    "s_path = os.path.join(save_path, 'nk_'+case)\n",
    "np.savetxt(s_path, nk_data,delimiter='\\t', newline='\\n')\n",
    "\n",
    "s_path = os.path.join(save_path, 'eps_'+case)\n",
    "np.savetxt(s_path, eps_data,delimiter='\\t', newline='\\n')\n",
    "\n",
    "s_path = os.path.join(save_path, 'sigma_'+case)\n",
    "np.savetxt(s_path, sigma_data,delimiter='\\t', newline='\\n')\n",
    "\n",
    "s_path = os.path.join(save_path, 'td_ref_'+case)\n",
    "np.savetxt(s_path, v_ref_data,delimiter='\\t', newline='\\n')\n",
    "\n",
    "s_path = os.path.join(save_path, 'td_sam_'+case)\n",
    "np.savetxt(s_path, v_sam_data,delimiter='\\t', newline='\\n')\n"
   ]
  }
 ],
 "metadata": {
  "kernelspec": {
   "display_name": "Python 3",
   "language": "python",
   "name": "python3"
  },
  "language_info": {
   "codemirror_mode": {
    "name": "ipython",
    "version": 3
   },
   "file_extension": ".py",
   "mimetype": "text/x-python",
   "name": "python",
   "nbconvert_exporter": "python",
   "pygments_lexer": "ipython3",
   "version": "3.9.0"
  },
  "orig_nbformat": 4
 },
 "nbformat": 4,
 "nbformat_minor": 2
}
