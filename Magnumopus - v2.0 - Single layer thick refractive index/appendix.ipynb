{
 "cells": [
  {
   "cell_type": "code",
   "execution_count": 15,
   "metadata": {},
   "outputs": [],
   "source": [
    "from readx import *\n",
    "import matplotlib.pyplot as plt\n",
    "import numpy as np\n",
    "\n",
    "\n",
    "file1 = open(r\"F:\\THz Data\\datat\\datat\\Thin-film Down hill - Ipynb Notebook - Magnumopus\\sigma_T25.txt\")\n",
    "file2 = open(r\"F:\\THz Data\\datat\\datat\\Thin-film Down hill - Ipynb Notebook - Magnumopus\\sigma_T75.txt\")\n",
    "d1    = (readx(0,3,file1))\n",
    "d2    = (readx(0,3,file2))\n",
    "\n",
    "%matplotlib qt\n",
    "plt.figure(0)\n",
    "plt.plot(d1[:,0],d1[:,2],label = 'Phase-1')\n",
    "plt.plot(d2[:,0],d2[:,2],label = 'Phase-2')\n",
    "plt.legend()\n",
    "plt.xlabel('THz')\n",
    "plt.ylabel('Imag sigma')\n",
    "#plt.ylim(0.0,1.5)\n",
    "plt.axhline(y=0.0,linestyle = '--',color='darkgray',linewidth = 1)\n",
    "plt.savefig('sigmai_comparison.png',dpi = 300)\n"
   ]
  }
 ],
 "metadata": {
  "kernelspec": {
   "display_name": "Python 3",
   "language": "python",
   "name": "python3"
  },
  "language_info": {
   "codemirror_mode": {
    "name": "ipython",
    "version": 3
   },
   "file_extension": ".py",
   "mimetype": "text/x-python",
   "name": "python",
   "nbconvert_exporter": "python",
   "pygments_lexer": "ipython3",
   "version": "3.11.0"
  }
 },
 "nbformat": 4,
 "nbformat_minor": 2
}
